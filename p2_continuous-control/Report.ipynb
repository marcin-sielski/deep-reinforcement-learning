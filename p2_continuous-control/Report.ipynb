{
 "cells": [
  {
   "cell_type": "markdown",
   "metadata": {},
   "source": [
    "# Continuous Control\n",
    "\n",
    "---\n",
    "\n",
    "In this notebook, you will learn how to use the Unity ML-Agents environment for the second project of the [Deep Reinforcement Learning Nanodegree](https://www.udacity.com/course/deep-reinforcement-learning-nanodegree--nd893) program.\n",
    "\n",
    "### 1. Start the Environment\n",
    "\n",
    "We begin by importing the necessary packages.  If the code cell below returns an error, please revisit the project instructions to double-check that you have installed [Unity ML-Agents](https://github.com/Unity-Technologies/ml-agents/blob/master/docs/Installation.md) and [NumPy](http://www.numpy.org/)."
   ]
  },
  {
   "cell_type": "code",
   "execution_count": 1,
   "metadata": {},
   "outputs": [],
   "source": [
    "from unityagents import UnityEnvironment\n",
    "import numpy as np\n",
    "from collections import deque\n",
    "from ddpg_agent import Agent\n",
    "import numpy as np\n",
    "import torch\n",
    "import matplotlib.pyplot as plt\n",
    "%matplotlib inline"
   ]
  },
  {
   "cell_type": "markdown",
   "metadata": {},
   "source": [
    "Next, we will start the environment!  **_Before running the code cell below_**, change the `file_name` parameter to match the location of the Unity environment that you downloaded.\n",
    "\n",
    "- **Mac**: `\"path/to/Reacher.app\"`\n",
    "- **Windows** (x86): `\"path/to/Reacher_Windows_x86/Reacher.exe\"`\n",
    "- **Windows** (x86_64): `\"path/to/Reacher_Windows_x86_64/Reacher.exe\"`\n",
    "- **Linux** (x86): `\"path/to/Reacher_Linux/Reacher.x86\"`\n",
    "- **Linux** (x86_64): `\"path/to/Reacher_Linux/Reacher.x86_64\"`\n",
    "- **Linux** (x86, headless): `\"path/to/Reacher_Linux_NoVis/Reacher.x86\"`\n",
    "- **Linux** (x86_64, headless): `\"path/to/Reacher_Linux_NoVis/Reacher.x86_64\"`\n",
    "\n",
    "For instance, if you are using a Mac, then you downloaded `Reacher.app`.  If this file is in the same folder as the notebook, then the line below should appear as follows:\n",
    "```\n",
    "env = UnityEnvironment(file_name=\"Reacher.app\")\n",
    "```"
   ]
  },
  {
   "cell_type": "code",
   "execution_count": 2,
   "metadata": {},
   "outputs": [
    {
     "name": "stderr",
     "output_type": "stream",
     "text": [
      "INFO:unityagents:\n",
      "'Academy' started successfully!\n",
      "Unity Academy name: Academy\n",
      "        Number of Brains: 1\n",
      "        Number of External Brains : 1\n",
      "        Lesson number : 0\n",
      "        Reset Parameters :\n",
      "\t\tgoal_speed -> 1.0\n",
      "\t\tgoal_size -> 5.0\n",
      "Unity brain name: ReacherBrain\n",
      "        Number of Visual Observations (per agent): 0\n",
      "        Vector Observation space type: continuous\n",
      "        Vector Observation space size (per agent): 33\n",
      "        Number of stacked Vector Observation: 1\n",
      "        Vector Action space type: continuous\n",
      "        Vector Action space size (per agent): 4\n",
      "        Vector Action descriptions: , , , \n"
     ]
    }
   ],
   "source": [
    "env = UnityEnvironment(file_name='Reacher_Linux/Reacher.x86_64')"
   ]
  },
  {
   "cell_type": "markdown",
   "metadata": {},
   "source": [
    "Environments contain **_brains_** which are responsible for deciding the actions of their associated agents. Here we check for the first brain available, and set it as the default brain we will be controlling from Python."
   ]
  },
  {
   "cell_type": "code",
   "execution_count": 3,
   "metadata": {},
   "outputs": [],
   "source": [
    "# get the default brain\n",
    "brain_name = env.brain_names[0]\n",
    "brain = env.brains[brain_name]"
   ]
  },
  {
   "cell_type": "markdown",
   "metadata": {},
   "source": [
    "### 2. Examine the State and Action Spaces\n",
    "\n",
    "In this environment, a double-jointed arm can move to target locations. A reward of `+0.1` is provided for each step that the agent's hand is in the goal location. Thus, the goal of your agent is to maintain its position at the target location for as many time steps as possible.\n",
    "\n",
    "The observation space consists of `33` variables corresponding to position, rotation, velocity, and angular velocities of the arm.  Each action is a vector with four numbers, corresponding to torque applicable to two joints.  Every entry in the action vector must be a number between `-1` and `1`.\n",
    "\n",
    "Run the code cell below to print some information about the environment."
   ]
  },
  {
   "cell_type": "code",
   "execution_count": 4,
   "metadata": {},
   "outputs": [
    {
     "name": "stdout",
     "output_type": "stream",
     "text": [
      "Number of agents: 1\n",
      "Size of each action: 4\n",
      "There are 1 agents. Each observes a state with length: 33\n",
      "The state for the first agent looks like: [ 0.00000000e+00 -4.00000000e+00  0.00000000e+00  1.00000000e+00\n",
      " -0.00000000e+00 -0.00000000e+00 -4.37113883e-08  0.00000000e+00\n",
      "  0.00000000e+00  0.00000000e+00  0.00000000e+00  0.00000000e+00\n",
      "  0.00000000e+00  0.00000000e+00 -1.00000000e+01  0.00000000e+00\n",
      "  1.00000000e+00 -0.00000000e+00 -0.00000000e+00 -4.37113883e-08\n",
      "  0.00000000e+00  0.00000000e+00  0.00000000e+00  0.00000000e+00\n",
      "  0.00000000e+00  0.00000000e+00  5.75471878e+00 -1.00000000e+00\n",
      "  5.55726671e+00  0.00000000e+00  1.00000000e+00  0.00000000e+00\n",
      " -1.68164849e-01]\n"
     ]
    }
   ],
   "source": [
    "# reset the environment\n",
    "env_info = env.reset(train_mode=True)[brain_name]\n",
    "\n",
    "# number of agents\n",
    "num_agents = len(env_info.agents)\n",
    "print('Number of agents:', num_agents)\n",
    "\n",
    "# size of each action\n",
    "action_size = brain.vector_action_space_size\n",
    "print('Size of each action:', action_size)\n",
    "\n",
    "# examine the state space \n",
    "states = env_info.vector_observations\n",
    "state_size = states.shape[1]\n",
    "print('There are {} agents. Each observes a state with length: {}'.format(states.shape[0], state_size))\n",
    "print('The state for the first agent looks like:', states[0])"
   ]
  },
  {
   "cell_type": "markdown",
   "metadata": {},
   "source": [
    "### 3. Take Random Actions in the Environment\n",
    "\n",
    "In the next code cell, you will learn how to use the Python API to control the agent and receive feedback from the environment.\n",
    "\n",
    "Once this cell is executed, you will watch the agent's performance, if it selects an action at random with each time step.  A window should pop up that allows you to observe the agent, as it moves through the environment.  \n",
    "\n",
    "Of course, as part of the project, you'll have to change the code so that the agent is able to use its experience to gradually choose better actions when interacting with the environment!"
   ]
  },
  {
   "cell_type": "code",
   "execution_count": 5,
   "metadata": {},
   "outputs": [
    {
     "name": "stdout",
     "output_type": "stream",
     "text": [
      "Total score (averaged over agents) this episode: 0.0\n"
     ]
    }
   ],
   "source": [
    "env_info = env.reset(train_mode=False)[brain_name]     # reset the environment    \n",
    "states = env_info.vector_observations                  # get the current state (for each agent)\n",
    "scores = np.zeros(num_agents)                          # initialize the score (for each agent)\n",
    "while True:\n",
    "    actions = np.random.randn(num_agents, action_size) # select an action (for each agent)\n",
    "    actions = np.clip(actions, -1, 1)                  # all actions between -1 and 1\n",
    "    env_info = env.step(actions)[brain_name]           # send all actions to tne environment\n",
    "    next_states = env_info.vector_observations         # get next state (for each agent)\n",
    "    rewards = env_info.rewards                         # get reward (for each agent)\n",
    "    dones = env_info.local_done                        # see if episode finished\n",
    "    scores += env_info.rewards                         # update the score (for each agent)\n",
    "    states = next_states                               # roll over states to next time step\n",
    "    if np.any(dones):                                  # exit loop if episode finished\n",
    "        break\n",
    "print('Total score (averaged over agents) this episode: {}'.format(np.mean(scores)))"
   ]
  },
  {
   "cell_type": "markdown",
   "metadata": {},
   "source": [
    "When finished, you can close the environment."
   ]
  },
  {
   "cell_type": "code",
   "execution_count": 6,
   "metadata": {},
   "outputs": [],
   "source": [
    "#env.close()"
   ]
  },
  {
   "cell_type": "markdown",
   "metadata": {},
   "source": [
    "### 4. It's Your Turn!\n",
    "\n",
    "Now it's your turn to train your own agent to solve the environment!  When training the environment, set `train_mode=True`, so that the line for resetting the environment looks like the following:\n",
    "```python\n",
    "env_info = env.reset(train_mode=True)[brain_name]\n",
    "```"
   ]
  },
  {
   "cell_type": "code",
   "execution_count": 5,
   "metadata": {},
   "outputs": [],
   "source": [
    "env_info = env.reset(train_mode=True)[brain_name] # reset the environment"
   ]
  },
  {
   "cell_type": "code",
   "execution_count": 6,
   "metadata": {},
   "outputs": [],
   "source": [
    "def ddpg(n_episodes=300, max_t=500):\n",
    "    avg_score = []\n",
    "    scores_deque = deque(maxlen=100)\n",
    "\n",
    "    env_info = env.reset(train_mode=True)[brain_name]               # reset the environment\n",
    "    states = env_info.vector_observations                           # get the current state (for each agent)\n",
    "    scores = np.zeros(num_agents)                                   # initialize the score (for each agent)\n",
    "    \n",
    "    agent_tuple = {\n",
    "        \"state_size\": state_size, \"action_size\": action_size, \"random_seed\": 2,}\n",
    "    agent = Agent(**agent_tuple) \n",
    "    \n",
    "    for i_episode in range(1, n_episodes+1):\n",
    "        states = env_info.vector_observations                       # get the current state (for each agent)      \n",
    "        agent.reset()\n",
    "\n",
    "        for t in range(max_t):            \n",
    "            actions = agent.act(states)                             # select an action (for each agent)\n",
    "            env_info = env.step(actions)[brain_name]                # send all actions to the environment\n",
    "            next_states = env_info.vector_observations              # get next state (for each agent)\n",
    "            rewards = env_info.rewards                              # get reward (for each agent)\n",
    "            dones = env_info.local_done                             # see if episode finished\n",
    "            agent.step(states, actions, rewards, next_states, dones)\n",
    "            scores += rewards                                       # update the score (for each agent)\n",
    "            states = next_states                                    # roll over states to next time step\n",
    "            if np.any(dones):                                       # exit loop if episode finished\n",
    "                break\n",
    "                \n",
    "        score = np.mean(scores)        \n",
    "        avg_score.append(score)\n",
    "        scores_deque.append(score)\n",
    "        avg = np.mean(scores_deque) \n",
    "            \n",
    "        print(\n",
    "            '\\rEpisode {}\\tAverage Score: {:.2f}'.format(i_episode, avg,), \n",
    "            end=\"\\n\")\n",
    "\n",
    "        if avg >= 30:\n",
    "            print(\n",
    "                \"\\r\\rEnvironment solved in {:d} episodes!\\t, Average Score: {:.2f}\"\n",
    "                .format(i_episode, avg))\n",
    "            break\n",
    "\n",
    "    torch.save(agent.actor_local.state_dict(), 'checkpoint_actor.pth')\n",
    "    torch.save(agent.critic_local.state_dict(), 'checkpoint_critic.pth')\n",
    "    \n",
    "    return avg_score"
   ]
  },
  {
   "cell_type": "code",
   "execution_count": 7,
   "metadata": {},
   "outputs": [
    {
     "name": "stderr",
     "output_type": "stream",
     "text": [
      "/home/marcin/.local/lib/python3.6/site-packages/torch/nn/functional.py:1340: UserWarning: nn.functional.tanh is deprecated. Use torch.tanh instead.\n",
      "  warnings.warn(\"nn.functional.tanh is deprecated. Use torch.tanh instead.\")\n"
     ]
    },
    {
     "name": "stdout",
     "output_type": "stream",
     "text": [
      "Episode 1\tAverage Score: 0.21\n",
      "Episode 2\tAverage Score: 0.39\n",
      "Episode 3\tAverage Score: 0.46\n",
      "Episode 4\tAverage Score: 0.67\n",
      "Episode 5\tAverage Score: 0.90\n",
      "Episode 6\tAverage Score: 1.05\n",
      "Episode 7\tAverage Score: 1.16\n",
      "Episode 8\tAverage Score: 1.24\n",
      "Episode 9\tAverage Score: 1.31\n",
      "Episode 10\tAverage Score: 1.37\n",
      "Episode 11\tAverage Score: 1.43\n",
      "Episode 12\tAverage Score: 1.48\n",
      "Episode 13\tAverage Score: 1.55\n",
      "Episode 14\tAverage Score: 1.63\n",
      "Episode 15\tAverage Score: 1.71\n",
      "Episode 16\tAverage Score: 1.78\n",
      "Episode 17\tAverage Score: 1.85\n",
      "Episode 18\tAverage Score: 1.91\n",
      "Episode 19\tAverage Score: 1.96\n",
      "Episode 20\tAverage Score: 2.01\n",
      "Episode 21\tAverage Score: 2.05\n",
      "Episode 22\tAverage Score: 2.11\n",
      "Episode 23\tAverage Score: 2.15\n",
      "Episode 24\tAverage Score: 2.20\n",
      "Episode 25\tAverage Score: 2.24\n",
      "Episode 26\tAverage Score: 2.29\n",
      "Episode 27\tAverage Score: 2.33\n",
      "Episode 28\tAverage Score: 2.37\n",
      "Episode 29\tAverage Score: 2.42\n",
      "Episode 30\tAverage Score: 2.46\n",
      "Episode 31\tAverage Score: 2.50\n",
      "Episode 32\tAverage Score: 2.54\n",
      "Episode 33\tAverage Score: 2.58\n",
      "Episode 34\tAverage Score: 2.63\n",
      "Episode 35\tAverage Score: 2.68\n",
      "Episode 36\tAverage Score: 2.74\n",
      "Episode 37\tAverage Score: 2.81\n",
      "Episode 38\tAverage Score: 2.89\n",
      "Episode 39\tAverage Score: 2.96\n",
      "Episode 40\tAverage Score: 3.04\n",
      "Episode 41\tAverage Score: 3.11\n",
      "Episode 42\tAverage Score: 3.18\n",
      "Episode 43\tAverage Score: 3.25\n",
      "Episode 44\tAverage Score: 3.32\n",
      "Episode 45\tAverage Score: 3.39\n",
      "Episode 46\tAverage Score: 3.46\n",
      "Episode 47\tAverage Score: 3.52\n",
      "Episode 48\tAverage Score: 3.59\n",
      "Episode 49\tAverage Score: 3.66\n",
      "Episode 50\tAverage Score: 3.72\n",
      "Episode 51\tAverage Score: 3.79\n",
      "Episode 52\tAverage Score: 3.86\n",
      "Episode 53\tAverage Score: 3.94\n",
      "Episode 54\tAverage Score: 4.01\n",
      "Episode 55\tAverage Score: 4.10\n",
      "Episode 56\tAverage Score: 4.18\n",
      "Episode 57\tAverage Score: 4.26\n",
      "Episode 58\tAverage Score: 4.35\n",
      "Episode 59\tAverage Score: 4.45\n",
      "Episode 60\tAverage Score: 4.54\n",
      "Episode 61\tAverage Score: 4.65\n",
      "Episode 62\tAverage Score: 4.75\n",
      "Episode 63\tAverage Score: 4.84\n",
      "Episode 64\tAverage Score: 4.94\n",
      "Episode 65\tAverage Score: 5.05\n",
      "Episode 66\tAverage Score: 5.15\n",
      "Episode 67\tAverage Score: 5.25\n",
      "Episode 68\tAverage Score: 5.35\n",
      "Episode 69\tAverage Score: 5.45\n",
      "Episode 70\tAverage Score: 5.55\n",
      "Episode 71\tAverage Score: 5.66\n",
      "Episode 72\tAverage Score: 5.76\n",
      "Episode 73\tAverage Score: 5.86\n",
      "Episode 74\tAverage Score: 5.96\n",
      "Episode 75\tAverage Score: 6.06\n",
      "Episode 76\tAverage Score: 6.15\n",
      "Episode 77\tAverage Score: 6.25\n",
      "Episode 78\tAverage Score: 6.34\n",
      "Episode 79\tAverage Score: 6.44\n",
      "Episode 80\tAverage Score: 6.54\n",
      "Episode 81\tAverage Score: 6.63\n",
      "Episode 82\tAverage Score: 6.73\n",
      "Episode 83\tAverage Score: 6.83\n",
      "Episode 84\tAverage Score: 6.93\n",
      "Episode 85\tAverage Score: 7.02\n",
      "Episode 86\tAverage Score: 7.12\n",
      "Episode 87\tAverage Score: 7.22\n",
      "Episode 88\tAverage Score: 7.32\n",
      "Episode 89\tAverage Score: 7.42\n",
      "Episode 90\tAverage Score: 7.52\n",
      "Episode 91\tAverage Score: 7.62\n",
      "Episode 92\tAverage Score: 7.73\n",
      "Episode 93\tAverage Score: 7.83\n",
      "Episode 94\tAverage Score: 7.93\n",
      "Episode 95\tAverage Score: 8.03\n",
      "Episode 96\tAverage Score: 8.13\n",
      "Episode 97\tAverage Score: 8.23\n",
      "Episode 98\tAverage Score: 8.33\n",
      "Episode 99\tAverage Score: 8.43\n",
      "Episode 100\tAverage Score: 8.53\n",
      "Episode 101\tAverage Score: 8.71\n",
      "Episode 102\tAverage Score: 8.88\n",
      "Episode 103\tAverage Score: 9.06\n",
      "Episode 104\tAverage Score: 9.24\n",
      "Episode 105\tAverage Score: 9.41\n",
      "Episode 106\tAverage Score: 9.58\n",
      "Episode 107\tAverage Score: 9.75\n",
      "Episode 108\tAverage Score: 9.92\n",
      "Episode 109\tAverage Score: 10.09\n",
      "Episode 110\tAverage Score: 10.27\n",
      "Episode 111\tAverage Score: 10.44\n",
      "Episode 112\tAverage Score: 10.61\n",
      "Episode 113\tAverage Score: 10.78\n",
      "Episode 114\tAverage Score: 10.94\n",
      "Episode 115\tAverage Score: 11.12\n",
      "Episode 116\tAverage Score: 11.30\n",
      "Episode 117\tAverage Score: 11.47\n",
      "Episode 118\tAverage Score: 11.65\n",
      "Episode 119\tAverage Score: 11.84\n",
      "Episode 120\tAverage Score: 12.02\n",
      "Episode 121\tAverage Score: 12.21\n",
      "Episode 122\tAverage Score: 12.39\n",
      "Episode 123\tAverage Score: 12.58\n",
      "Episode 124\tAverage Score: 12.77\n",
      "Episode 125\tAverage Score: 12.96\n",
      "Episode 126\tAverage Score: 13.15\n",
      "Episode 127\tAverage Score: 13.34\n",
      "Episode 128\tAverage Score: 13.53\n",
      "Episode 129\tAverage Score: 13.72\n",
      "Episode 130\tAverage Score: 13.92\n",
      "Episode 131\tAverage Score: 14.12\n",
      "Episode 132\tAverage Score: 14.31\n",
      "Episode 133\tAverage Score: 14.51\n",
      "Episode 134\tAverage Score: 14.70\n",
      "Episode 135\tAverage Score: 14.90\n",
      "Episode 136\tAverage Score: 15.09\n",
      "Episode 137\tAverage Score: 15.27\n",
      "Episode 138\tAverage Score: 15.45\n",
      "Episode 139\tAverage Score: 15.64\n",
      "Episode 140\tAverage Score: 15.83\n",
      "Episode 141\tAverage Score: 16.01\n",
      "Episode 142\tAverage Score: 16.20\n",
      "Episode 143\tAverage Score: 16.39\n",
      "Episode 144\tAverage Score: 16.58\n",
      "Episode 145\tAverage Score: 16.77\n",
      "Episode 146\tAverage Score: 16.96\n",
      "Episode 147\tAverage Score: 17.14\n",
      "Episode 148\tAverage Score: 17.33\n",
      "Episode 149\tAverage Score: 17.52\n",
      "Episode 150\tAverage Score: 17.71\n",
      "Episode 151\tAverage Score: 17.90\n",
      "Episode 152\tAverage Score: 18.09\n",
      "Episode 153\tAverage Score: 18.27\n",
      "Episode 154\tAverage Score: 18.46\n",
      "Episode 155\tAverage Score: 18.64\n",
      "Episode 156\tAverage Score: 18.81\n",
      "Episode 157\tAverage Score: 19.00\n",
      "Episode 158\tAverage Score: 19.18\n",
      "Episode 159\tAverage Score: 19.35\n",
      "Episode 160\tAverage Score: 19.53\n",
      "Episode 161\tAverage Score: 19.71\n",
      "Episode 162\tAverage Score: 19.89\n",
      "Episode 163\tAverage Score: 20.07\n",
      "Episode 164\tAverage Score: 20.25\n",
      "Episode 165\tAverage Score: 20.42\n",
      "Episode 166\tAverage Score: 20.59\n",
      "Episode 167\tAverage Score: 20.77\n",
      "Episode 168\tAverage Score: 20.95\n",
      "Episode 169\tAverage Score: 21.12\n",
      "Episode 170\tAverage Score: 21.30\n",
      "Episode 171\tAverage Score: 21.47\n",
      "Episode 172\tAverage Score: 21.65\n",
      "Episode 173\tAverage Score: 21.83\n",
      "Episode 174\tAverage Score: 22.01\n",
      "Episode 175\tAverage Score: 22.20\n",
      "Episode 176\tAverage Score: 22.38\n",
      "Episode 177\tAverage Score: 22.56\n",
      "Episode 178\tAverage Score: 22.75\n",
      "Episode 179\tAverage Score: 22.92\n",
      "Episode 180\tAverage Score: 23.10\n",
      "Episode 181\tAverage Score: 23.28\n",
      "Episode 182\tAverage Score: 23.46\n",
      "Episode 183\tAverage Score: 23.63\n",
      "Episode 184\tAverage Score: 23.80\n",
      "Episode 185\tAverage Score: 23.98\n",
      "Episode 186\tAverage Score: 24.15\n",
      "Episode 187\tAverage Score: 24.32\n",
      "Episode 188\tAverage Score: 24.49\n",
      "Episode 189\tAverage Score: 24.66\n",
      "Episode 190\tAverage Score: 24.82\n",
      "Episode 191\tAverage Score: 24.99\n",
      "Episode 192\tAverage Score: 25.15\n",
      "Episode 193\tAverage Score: 25.32\n",
      "Episode 194\tAverage Score: 25.49\n",
      "Episode 195\tAverage Score: 25.65\n",
      "Episode 196\tAverage Score: 25.82\n",
      "Episode 197\tAverage Score: 25.98\n",
      "Episode 198\tAverage Score: 26.15\n",
      "Episode 199\tAverage Score: 26.32\n",
      "Episode 200\tAverage Score: 26.49\n",
      "Episode 201\tAverage Score: 26.67\n",
      "Episode 202\tAverage Score: 26.84\n",
      "Episode 203\tAverage Score: 27.02\n",
      "Episode 204\tAverage Score: 27.19\n",
      "Episode 205\tAverage Score: 27.36\n",
      "Episode 206\tAverage Score: 27.54\n",
      "Episode 207\tAverage Score: 27.71\n",
      "Episode 208\tAverage Score: 27.90\n",
      "Episode 209\tAverage Score: 28.09\n",
      "Episode 210\tAverage Score: 28.29\n",
      "Episode 211\tAverage Score: 28.48\n",
      "Episode 212\tAverage Score: 28.68\n",
      "Episode 213\tAverage Score: 28.88\n",
      "Episode 214\tAverage Score: 29.08\n",
      "Episode 215\tAverage Score: 29.27\n",
      "Episode 216\tAverage Score: 29.46\n",
      "Episode 217\tAverage Score: 29.66\n",
      "Episode 218\tAverage Score: 29.85\n",
      "Episode 219\tAverage Score: 30.04\n",
      "Environment solved in 219 episodes!\t, Average Score: 30.04\n"
     ]
    }
   ],
   "source": [
    "scores = ddpg()"
   ]
  },
  {
   "cell_type": "code",
   "execution_count": 8,
   "metadata": {},
   "outputs": [],
   "source": [
    "def plot_scores(scores):\n",
    "    fig = plt.figure()\n",
    "    ax = fig.add_subplot(111)\n",
    "    plt.plot(np.arange(1, len(scores)+1), scores)\n",
    "    plt.ylabel('Score')\n",
    "    plt.xlabel('Episode #')\n",
    "    plt.show()"
   ]
  },
  {
   "cell_type": "code",
   "execution_count": 9,
   "metadata": {},
   "outputs": [
    {
     "data": {
      "image/png": "[encoded data removed]",
      "text/plain": [
       "<matplotlib.figure.Figure at 0x7fca86d9c748>"
      ]
     },
     "metadata": {},
     "output_type": "display_data"
    }
   ],
   "source": [
    "plot_scores(scores)"
   ]
  },
  {
   "cell_type": "code",
   "execution_count": 10,
   "metadata": {},
   "outputs": [],
   "source": [
    "env.close()"
   ]
  },
  {
   "cell_type": "markdown",
   "metadata": {},
   "source": [
    "The Deep Deterministic Policy Gradient (DDPG) algorithm was used in the solution.\n",
    "The DDPG is another Actor-Critic method which can be seen as approximate DQN or\n",
    "DQN method for continuous action spaces. Critic in DDPG is used to approximate \n",
    "the maximizer over the Q-values of the next state. \n",
    "\n",
    "An environment provides one double-jointed arm."
   ]
  },
  {
   "cell_type": "markdown",
   "metadata": {},
   "source": [
    "The project uses following hyper-parameters:\n",
    "* BUFFER_SIZE = int(1e6)  # replay buffer size\n",
    "* BATCH_SIZE = 128        # minibatch size\n",
    "* GAMMA = 0.99            # discount factor\n",
    "* TAU = 1e-3              # for soft update of target parameters\n",
    "* LR_ACTOR = 1e-4         # learning rate of the actor \n",
    "* LR_CRITIC = 3e-4        # learning rate of the critic\n",
    "* WEIGHT_DECAY = 0.0001   # L2 weight decay\n",
    "* n_episodes = 300        # maximum number of episodes\n",
    "* max_t = 500             # max steps per episode"
   ]
  },
  {
   "cell_type": "markdown",
   "metadata": {},
   "source": [
    "For future work it is worth to:\n",
    "* check algorithm on multiple double-jointed arms environment.\n",
    "* play around hyper-parameters\n",
    "* implement different algorithm such as PPO, A3C, D4PG."
   ]
  }
 ],
 "metadata": {
  "kernelspec": {
   "display_name": "Python 3",
   "language": "python",
   "name": "python3"
  },
  "language_info": {
   "codemirror_mode": {
    "name": "ipython",
    "version": 3
   },
   "file_extension": ".py",
   "mimetype": "text/x-python",
   "name": "python",
   "nbconvert_exporter": "python",
   "pygments_lexer": "ipython3",
   "version": "3.6.9"
  }
 },
 "nbformat": 4,
 "nbformat_minor": 2
}
